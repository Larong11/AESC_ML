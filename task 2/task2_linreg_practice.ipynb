{
 "cells": [
  {
   "cell_type": "markdown",
   "metadata": {},
   "source": [
    "# ДЗ Линейная регрессия\n",
    "\n",
    "В данном задании мы рассмотрим набор данных об учащихся, собранный в 2006 году в одной из школ Португалии. Данные представлены в неудобном для машинного обучения виде, и содержат мусор. Ваша задача &mdash; привести их к надлежащему виду и обучить на них простую модель.\n",
    "\n",
    "Данные состоят из четырех файлов:\n",
    "- data.csv &mdash; основная таблица с информацией о учащихся\n",
    "- scores.csv &mdash; список финальных оценок по одному из предметов (20-балльная шкала переведенная в проценты)\n",
    "- attendance.csv &mdash; таблица посещений занятий по этому предмету\n",
    "- school_support.txt &mdash; список учащихся, которым оказывается финансовая поддержка\n",
    "\n",
    "Ваша задача &mdash; построить модель для предсказания финальных оценок исходя из всех остальных данных и проверить качество ее работы с помощью кросс-валидации. В качестве алгоритма мы будем использовать линейную регрессию\n",
    "\n",
    "Расшифровка столбцов в data.csv для справки:\n",
    "- age &mdash; возраст -\n",
    "- Medu &mdash; уровень образования матери (по некоторой условной шкале)\n",
    "- Fedu &mdash; уровень образования отца (по некоторой условной шкале)\n",
    "- traveltime &mdash; время в пути до школы (1 – < 15 мин., 2 – от 15 до 30 мин., 3 – от 30 мин. to 1 ч.\n",
    "или 4 – > 1 ч.) -\n",
    "- studytime &mdash; время, затрачиваемое на занятия вне школы (1 – < 2 ч., 2 – от 2 до 5 ч., 3 – от 5 до 10 ч. или 4 – > 10 ч.)\n",
    "- famrel &mdash; насколько хорошие отношения в семье у учащегося (по некоторой условной шкале)\n",
    "- freetime &mdash; количество свободного времени вне школы (по некоторой условной шкале)\n",
    "- goout &mdash; время, затрачиваемое на общение с друзьями (по некоторой условной шкале)\n",
    "- Dalc &mdash; количество употребления алкоголя в учебные дни (по некоторой условной шкале)\n",
    "- Walc &mdash; количество употребления алкоголя в неучебные дни (по некоторой условной шкале)\n",
    "- health &mdash; уровень здоровья (по некоторой условной шкале)\n",
    "- sex_M &mdash; пол: мужской (1) или женский (0)\n",
    "- address_U &mdash; живет ли учащийся в городе (1) или в пригороде (0)\n",
    "- famsize_LE3 &mdash; размер семьи: не больше 3 человек (1) или больше (0)\n",
    "- Pstatus_T &mdash; живут ли родители вместе (1) или отдельно (0)\n",
    "- nursery &mdash; посещал ли учащийся детский сад\n",
    "- plans_university &mdash; планирует ли учащийся поступать в университет (-1 или 1)\n",
    "- past_failures &mdash; количество неудовлетворительных оценок по другим предметам ранее (от 0 до 4)\n",
    "\n",
    "*Примечание. Несколько признаков в данных содержат ошибки/проблемы/некорректности. Эти проблемы нужно исправить. Для\n",
    "проверки &mdash; всего в данных таких проблем четыре.*"
   ]
  },
  {
   "cell_type": "code",
   "execution_count": 851,
   "metadata": {},
   "outputs": [],
   "source": [
    "from sklearn.model_selection import cross_val_score, KFold\n",
    "from sklearn import linear_model\n",
    "\n",
    "def cross_val(X, y, toPrint=True):\n",
    "    model = linear_model.LinearRegression()\n",
    "    scores = cross_val_score(model, X, y, cv=4, scoring=\"r2\")\n",
    "\n",
    "    # for i, score in enumerate(scores):\n",
    "    #     print(f\"Разбиение {i+1}: R^2 = {score:.4f}\")\n",
    "    if(toPrint):\n",
    "        print(f\"Среднее :{scores.mean():.4f}\")\n",
    "    else :\n",
    "        return scores.mean()\n"
   ]
  },
  {
   "cell_type": "markdown",
   "metadata": {},
   "source": [
    "### Задача 1: сломанный признак (а может и не один)\n",
    "__(1 балл)__\n",
    "\n",
    "Загрузите таблицу data.csv.\n",
    "\n",
    "Найдите в данных сломанный признак (он не соответствует описанию) и исправьте его."
   ]
  },
  {
   "cell_type": "code",
   "execution_count": 852,
   "metadata": {
    "collapsed": true
   },
   "outputs": [],
   "source": [
    "import pandas as pd\n",
    "\n",
    "df = pd.read_csv('data.csv')\n",
    "\n",
    "df.rename(columns={'plans_universitypast_failures' : 'plans_university'}, inplace=True)\n",
    "past_failures = []\n",
    "for idx in df.index:\n",
    "    past_failures.append(abs(df.loc[idx, 'plans_university']) % 10)\n",
    "    df.loc[idx, 'plans_university'] = (-1 if df.loc[idx, 'plans_university'] < 0 else 1)\n",
    "df['past_failures'] = past_failures \n",
    "\n",
    "df.to_csv('changed_data.csv', index=False)\n"
   ]
  },
  {
   "cell_type": "markdown",
   "metadata": {},
   "source": [
    "### Задача 2: пропуски в данных \n",
    "__(1 балл)__\n",
    "\n",
    "Проверьте, есть ли в данных пропуски (значения NaN). Замените все пропущенные значения на среднее значение этого признака по столбцу.\n",
    "\n",
    "*Hint: изучите в pandas функции loc, isnull, а также передачу булевых массивов в качестве индексов.*"
   ]
  },
  {
   "cell_type": "code",
   "execution_count": 853,
   "metadata": {
    "collapsed": true
   },
   "outputs": [
    {
     "name": "stdout",
     "output_type": "stream",
     "text": [
      "Среднее :0.2165\n"
     ]
    }
   ],
   "source": [
    "df = pd.read_csv('changed_data.csv')\n",
    "\n",
    "for i in df.columns:\n",
    "    df.fillna({i: df[i].median()}, inplace=True)\n",
    "\n",
    "df.to_csv('changed_data.csv', index=False)\n",
    "\n",
    "firstAccuracy = cross_val(pd.read_csv(\"changed_data.csv\"), pd.read_csv(\"scores.csv\"), toPrint=False)\n",
    "print(f\"Среднее :{firstAccuracy:.4f}\")"
   ]
  },
  {
   "cell_type": "markdown",
   "metadata": {},
   "source": [
    "### Задача 3: нормализация данных\n",
    "__(1 балл)__\n",
    "\n",
    "Нормализуйте данные любым способом"
   ]
  },
  {
   "cell_type": "code",
   "execution_count": 854,
   "metadata": {
    "collapsed": true
   },
   "outputs": [
    {
     "name": "stdout",
     "output_type": "stream",
     "text": [
      "Среднее :0.2165\n"
     ]
    }
   ],
   "source": [
    "df = pd.read_csv(\"changed_data.csv\")\n",
    "for col in df.columns[1:]:\n",
    "    df[col] = (df[col])/(df[col].max())\n",
    "df.to_csv('changed_data.csv', index=False)\n",
    "\n",
    "cross_val(pd.read_csv(\"changed_data.csv\"), pd.read_csv(\"scores.csv\"))"
   ]
  },
  {
   "cell_type": "markdown",
   "metadata": {},
   "source": [
    "### Задача 4: кросс-валидация для исходных данных\n",
    "__(1 балл)__\n",
    "\n",
    "Загрузите файл scores.csv и протестируйте, как линейная регрессия предсказывает ответ сейчас (с помощью кросс-валидации).\n",
    "\n",
    "Кроссвалидацию сделайте по 4 разбивкам. Выведите качество в каждом их разбиений.\n",
    "\n",
    "*Hint: воспользуйтесь sklearn.linear_model и sklearn.model_selection.*"
   ]
  },
  {
   "cell_type": "code",
   "execution_count": 855,
   "metadata": {},
   "outputs": [
    {
     "name": "stdout",
     "output_type": "stream",
     "text": [
      "Среднее :0.2165\n"
     ]
    }
   ],
   "source": [
    "cross_val(pd.read_csv(\"changed_data.csv\"), pd.read_csv(\"scores.csv\"))"
   ]
  },
  {
   "cell_type": "markdown",
   "metadata": {},
   "source": [
    "### Задача 5: полные данные\n",
    "__(2 балла)__\n",
    "\n",
    "Воспользуйтесь файлами attendance.csv и school_support.txt для того, чтобы добавить новые признаки в данные. Желательно по максимуму использовать возможности pandas для упрощения преобразований.\n",
    "\n",
    "school_suport число в строке значит что i-ый школьник из исходной таблицы получал мат помощь (обратите внимание что строк в файле меньше, подумайте как правильно импортировать данные)\n",
    "\n",
    "Добавьте данные таким образом, чтобы качество выросло"
   ]
  },
  {
   "cell_type": "code",
   "execution_count": 856,
   "metadata": {
    "collapsed": true
   },
   "outputs": [
    {
     "name": "stdout",
     "output_type": "stream",
     "text": [
      "Среднее :0.2202\n"
     ]
    }
   ],
   "source": [
    "data = pd.read_csv('changed_data.csv')\n",
    "\n",
    "have_support = []\n",
    "\n",
    "with open(\"school_support.txt\", \"r\") as file:\n",
    "    for i in file:\n",
    "        have_support.append(int(i))\n",
    "\n",
    "data[\"had_support\"] = 0\n",
    "for idx in have_support:\n",
    "    data.at[idx, \"had_support\"] = 1\n",
    "\n",
    "attendance = pd.read_csv(\"attendance.csv\", sep=';')\n",
    "\n",
    "for i in range(len(attendance)):\n",
    "    cnt = 0\n",
    "    for c in attendance.columns:\n",
    "        cnt += (attendance.at[i, c] == '+')\n",
    "    data.at[i, \"attendances\"] = cnt / 32\n",
    "\n",
    "data.to_csv(\"changed_data.csv\", index=False)\n",
    "\n",
    "cross_val(pd.read_csv(\"changed_data.csv\"), pd.read_csv(\"scores.csv\"))\n"
   ]
  },
  {
   "cell_type": "markdown",
   "metadata": {},
   "source": [
    "### Задача 6: борьба с выбросами\n",
    "__(1.5 балла)__\n",
    "\n",
    "Качество предсказания может ухудшаться, если в данных присутствуют корректные значения признаков (с точки зрения чтения данных и применения методов), но не соответствующие реальным объектам. Например, данные могли быть введены в неверном формате, а потом слишком грубо приведены к общему виду, из-за чего ошибка не была замечена.\n",
    "Попробуем от такого избавиться &mdash; а для этого такие объекты нужно сначала найти. Конечно, нам еще недоступны многие продвинутые способы, но давайте попробуем обойтись простыми.\n",
    "\n",
    "Первый способ это сделать &mdash; посмотреть для каждого признака на распределение его значений и проверить крайние значения на правдоподобность. (постройте гистограммы для признаков, как минимум для подозрительных)\n",
    "\n",
    "*Hint 1: используйте функцию DataFrame.hist*\n",
    "\n",
    "*Hint 2: в описании датасета выше есть информация, необходимая для восстановления правильных значений*"
   ]
  },
  {
   "cell_type": "code",
   "execution_count": 857,
   "metadata": {
    "collapsed": true
   },
   "outputs": [
    {
     "name": "stdout",
     "output_type": "stream",
     "text": [
      "Среднее :0.2203\n"
     ]
    }
   ],
   "source": [
    "import matplotlib\n",
    "import matplotlib.pyplot\n",
    "\n",
    "df = pd.read_csv(\"changed_data.csv\")\n",
    "# hist = df.hist(figsize=(10, 15), column=df.columns[1:])\n",
    "\n",
    "df.loc[df['age'] > 0.01, 'age'] = df['age'].median()\n",
    "df.loc[df['traveltime'] >= 0.2, 'traveltime'] = df['traveltime'].median()\n",
    "\n",
    "# hist = df.hist(figsize=(10, 15), column=df.columns[1:])\n",
    "df.to_csv('changed_data.csv', index=False)\n",
    "cross_val(pd.read_csv(\"changed_data.csv\"), pd.read_csv(\"scores.csv\"))"
   ]
  },
  {
   "cell_type": "markdown",
   "metadata": {},
   "source": [
    "__(1.5 балла)__"
   ]
  },
  {
   "cell_type": "markdown",
   "metadata": {},
   "source": [
    "Другой простой способ найти выбросы &mdash; сделать предсказание и посчитать ошибку на каждом объекте по отдельности и посмотреть на объекты с наибольшей ошибкой. Обучите линейную регрессию (функция fit) и для каждого объекта посчитайте среднеквадратичное отклонение. Постройте гистограмму распределения ошибок. Посмотрите на гистограмму и удалите из выборки те объекты на которых ошибка слишком большая.\n",
    "\n",
    "Обратите внимание, что просто удалять все объекты с высокой ошибкой нельзя &mdash; это, конечно, хороший способ добиться меньшей ошибки (на данной выборке), но одновременно вы ухудшите обобщающую способность алгоритма. Вместо этого вам нужно найти однозначно ошибочные записи и их исправить.\n",
    "\n",
    "*Hint: возможно, все проблемы уже были найдены первым способом; для проверки &mdash; в сумме здесь нужно исправить 3 проблемы.*"
   ]
  },
  {
   "cell_type": "markdown",
   "metadata": {},
   "source": [
    "Для поиска ошибки на одном отдельном обьекте придётся обучить линейную регрессию руками. Частичный пример, допишите код. Постройте гистограмму распределения ошибок"
   ]
  },
  {
   "cell_type": "code",
   "execution_count": 858,
   "metadata": {},
   "outputs": [
    {
     "name": "stdout",
     "output_type": "stream",
     "text": [
      "Среднее :0.3052\n"
     ]
    }
   ],
   "source": [
    "import sklearn\n",
    "from sklearn import linear_model\n",
    "\n",
    "df = pd.read_csv(\"changed_data.csv\")\n",
    "scores = pd.read_csv(\"scores.csv\")\n",
    "errors = pd.DataFrame()\n",
    "\n",
    "regression = linear_model.LinearRegression().fit(df, scores)\n",
    "prediction = regression.predict(df)\n",
    "errors['val'] = (prediction - scores) ** 2\n",
    "# hist = errors.hist(figsize=(9, 9))\n",
    "\n",
    "for i in range(len(prediction)):\n",
    "    if (errors.at[i, \"val\"] > 1000):\n",
    "        df = df.drop(i)\n",
    "        scores = scores.drop(i)\n",
    "\n",
    "df.to_csv(\"changed_data.csv\", index=False)\n",
    "scores.to_csv(\"changed_scores.csv\", index=False)\n",
    "prediction = regression.predict(df)\n",
    "errors['val'] = (prediction - scores) ** 2\n",
    "\n",
    "# hist = errors.hist(figsize=(9, 9))\n",
    "\n",
    "cross_val(pd.read_csv(\"changed_data.csv\"), pd.read_csv(\"changed_scores.csv\"))\n"
   ]
  },
  {
   "cell_type": "markdown",
   "metadata": {},
   "source": [
    "### Финальное предсказание и отчёт (1 балл)\n",
    "\n",
    "Проведите предсказание еще раз и сравните качество с исходным. Запишите свои наблюдения - как изменялось качество обучения модели при использовании разных модификаций данных. "
   ]
  },
  {
   "cell_type": "code",
   "execution_count": 859,
   "metadata": {
    "collapsed": true
   },
   "outputs": [
    {
     "name": "stdout",
     "output_type": "stream",
     "text": [
      "Результат улучшился на 8.87%\n"
     ]
    }
   ],
   "source": [
    "print(f\"Результат улучшился на {100*(cross_val(pd.read_csv(\"changed_data.csv\"), pd.read_csv(\"changed_scores.csv\"), toPrint=False) - firstAccuracy):.2f}%\")"
   ]
  }
 ],
 "metadata": {
  "kernelspec": {
   "display_name": "Python 3",
   "language": "python",
   "name": "python3"
  },
  "language_info": {
   "codemirror_mode": {
    "name": "ipython",
    "version": 3
   },
   "file_extension": ".py",
   "mimetype": "text/x-python",
   "name": "python",
   "nbconvert_exporter": "python",
   "pygments_lexer": "ipython3",
   "version": "3.13.1"
  }
 },
 "nbformat": 4,
 "nbformat_minor": 2
}
